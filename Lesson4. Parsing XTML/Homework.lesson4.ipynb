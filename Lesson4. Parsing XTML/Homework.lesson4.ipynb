{
 "cells": [
  {
   "cell_type": "code",
   "execution_count": 2,
   "id": "b74d7d44",
   "metadata": {},
   "outputs": [],
   "source": [
    "#https://news.mail.ru/"
   ]
  },
  {
   "cell_type": "code",
   "execution_count": 3,
   "id": "ab4939ef",
   "metadata": {},
   "outputs": [],
   "source": [
    "import requests\n",
    "from lxml import html\n",
    "import time\n",
    "import pymongo\n",
    "from pprint import pprint\n",
    "from pymongo.errors import *"
   ]
  },
  {
   "cell_type": "code",
   "execution_count": 4,
   "id": "2e888b13",
   "metadata": {},
   "outputs": [],
   "source": [
    "###Creating the database\n",
    "client = pymongo.MongoClient('127.0.0.1', 27017)\n",
    "db = client['db_news']\n",
    "news = db.news"
   ]
  },
  {
   "cell_type": "code",
   "execution_count": 5,
   "id": "71a20d8b",
   "metadata": {},
   "outputs": [],
   "source": [
    "#Function to avoid duplicates and add data to db\n",
    "def db_add(db, docs):\n",
    "    for doc in docs:\n",
    "        try:\n",
    "            db.insert_one(doc)\n",
    "        except:\n",
    "            pass"
   ]
  },
  {
   "cell_type": "code",
   "execution_count": 22,
   "id": "d511444f",
   "metadata": {},
   "outputs": [],
   "source": [
    "#Data to enter the needed profession in\n",
    "url = 'https://news.mail.ru/'\n",
    "headers = {'User-Agent': 'Chrome/98.0.4758.102'}\n",
    "response = requests.get(url, headers=headers)\n",
    "root = html.fromstring(response.text)"
   ]
  },
  {
   "cell_type": "code",
   "execution_count": 67,
   "id": "389f70c6",
   "metadata": {},
   "outputs": [
    {
     "data": {
      "text/plain": [
       "39"
      ]
     },
     "execution_count": 67,
     "metadata": {},
     "output_type": "execute_result"
    }
   ],
   "source": [
    "titles_in_pic = root.xpath(\"//span[contains(@class,'photo__title')]/text()\") #first 3\n",
    "titles_in_list = root.xpath(\"//a[@class='list__text']/text()\")\n",
    "titles_in_list2 = root.xpath(\"//a[contains(@class,'link_flex')]/span/text()\")\n",
    "titles_with_pic = root.xpath(\"//span[@class='newsitem__title-inner']/text()\")\n",
    "len(titles_in_pic) + len(titles_in_list) + len(titles_in_list2) + len(titles_with_pic)"
   ]
  },
  {
   "cell_type": "code",
   "execution_count": 68,
   "id": "0f365c7f",
   "metadata": {},
   "outputs": [],
   "source": [
    "links_in_pic = root.xpath(\"//span[contains(@class,'photo__title')]/../../@href\") #first 3\n",
    "links_in_list = root.xpath(\"//a[@class='list__text']/@href\")\n",
    "links_in_list2 = root.xpath(\"//a[contains(@class,'link_flex')]/@href\")\n",
    "links_with_pic = root.xpath(\"//span[@class='newsitem__title-inner']/../@href\")"
   ]
  },
  {
   "cell_type": "code",
   "execution_count": 69,
   "id": "f43286c1",
   "metadata": {},
   "outputs": [],
   "source": [
    "source_with_pic = root.xpath(\"//span[@class='newsitem__param']/text()\")\n",
    "date_with_pic = root.xpath(\"//span[contains(@class,'js-ago')]/@datetime\")"
   ]
  },
  {
   "cell_type": "code",
   "execution_count": 70,
   "id": "2ad59b44",
   "metadata": {},
   "outputs": [],
   "source": [
    "blocks = [[titles_in_pic, links_in_pic],\n",
    "         [titles_in_list, links_in_list], \n",
    "         [titles_in_list2, links_in_list2], \n",
    "         [titles_with_pic, links_with_pic, source_with_pic, date_with_pic]]"
   ]
  },
  {
   "cell_type": "code",
   "execution_count": 71,
   "id": "b256f766",
   "metadata": {},
   "outputs": [],
   "source": [
    "news_list = []\n",
    "\n",
    "for block in blocks:\n",
    "    for i in range(len(block[0])):    \n",
    "        news_item = {}\n",
    "\n",
    "        news_item['title'] = block[0][i]\n",
    "        news_item['link'] = block[1][i]\n",
    "        try:\n",
    "            news_item['source'] = block[2][i]\n",
    "            news_item['date'] = block[3][i]\n",
    "        except:\n",
    "            news_item['source'] = None\n",
    "            news_item['date'] = None\n",
    "\n",
    "        news_list.append(news_item)"
   ]
  },
  {
   "cell_type": "code",
   "execution_count": null,
   "id": "11ed6885",
   "metadata": {},
   "outputs": [],
   "source": []
  },
  {
   "cell_type": "code",
   "execution_count": null,
   "id": "78e107bc",
   "metadata": {},
   "outputs": [],
   "source": [
    "news_in_pic = root.xpath(\"//table[@class='daynews__inner']//div[contains(@class,'daynews__item')]/text()\")\n",
    "news_in_list = root.xpath(\"//li[contains(@class,'list__item')]/text()\")\n",
    "news_with_pic = root.xpath(\"//span[@class='cell']/text()\")"
   ]
  },
  {
   "cell_type": "code",
   "execution_count": null,
   "id": "4c64863f",
   "metadata": {},
   "outputs": [],
   "source": []
  },
  {
   "cell_type": "code",
   "execution_count": null,
   "id": "d124e9d9",
   "metadata": {},
   "outputs": [],
   "source": []
  }
 ],
 "metadata": {
  "kernelspec": {
   "display_name": "Python 3 (ipykernel)",
   "language": "python",
   "name": "python3"
  },
  "language_info": {
   "codemirror_mode": {
    "name": "ipython",
    "version": 3
   },
   "file_extension": ".py",
   "mimetype": "text/x-python",
   "name": "python",
   "nbconvert_exporter": "python",
   "pygments_lexer": "ipython3",
   "version": "3.9.7"
  }
 },
 "nbformat": 4,
 "nbformat_minor": 5
}
