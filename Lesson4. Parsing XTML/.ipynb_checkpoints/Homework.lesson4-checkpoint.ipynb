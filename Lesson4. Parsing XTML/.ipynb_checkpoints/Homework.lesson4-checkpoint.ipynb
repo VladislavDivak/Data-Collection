{
 "cells": [
  {
   "cell_type": "code",
   "execution_count": 2,
   "id": "65159902",
   "metadata": {},
   "outputs": [],
   "source": [
    "#https://news.mail.ru/"
   ]
  },
  {
   "cell_type": "code",
   "execution_count": 3,
   "id": "57b118c7",
   "metadata": {},
   "outputs": [],
   "source": [
    "import requests\n",
    "from lxml import html\n",
    "import time\n",
    "import pymongo\n",
    "from pprint import pprint\n",
    "from pymongo.errors import *"
   ]
  },
  {
   "cell_type": "code",
   "execution_count": 4,
   "id": "8ac1fcfe",
   "metadata": {},
   "outputs": [],
   "source": [
    "###Creating the database\n",
    "client = pymongo.MongoClient('127.0.0.1', 27017)\n",
    "db = client['db_news']\n",
    "news = db.news"
   ]
  },
  {
   "cell_type": "code",
   "execution_count": 5,
   "id": "ad0587be",
   "metadata": {},
   "outputs": [],
   "source": [
    "#Function to avoid duplicates and add data to db\n",
    "def db_add(db, docs):\n",
    "    for doc in docs:\n",
    "        try:\n",
    "            db.insert_one(doc)\n",
    "        except:\n",
    "            pass"
   ]
  },
  {
   "cell_type": "code",
   "execution_count": 6,
   "id": "104e439f",
   "metadata": {},
   "outputs": [],
   "source": [
    "#Data to enter the needed profession in\n",
    "url = 'https://news.mail.ru/'\n",
    "headers = {'User-Agent': 'Chrome/98.0.4758.102'}\n",
    "response = requests.get(url, headers=headers)\n",
    "root = html.fromstring(response.text)"
   ]
  },
  {
   "cell_type": "code",
   "execution_count": 8,
   "id": "98d12c62",
   "metadata": {},
   "outputs": [
    {
     "data": {
      "text/plain": [
       "[<Element div at 0x23d55473810>,\n",
       " <Element div at 0x23d5533be50>,\n",
       " <Element div at 0x23d554a34f0>,\n",
       " <Element div at 0x23d554a3590>,\n",
       " <Element div at 0x23d554a35e0>]"
      ]
     },
     "execution_count": 8,
     "metadata": {},
     "output_type": "execute_result"
    }
   ],
   "source": [
    "news_in_pic = root.xpath(\"//table[@class='daynews__inner']//div[contains(@class,'daynews__item')]\")\n",
    "news_in_pic"
   ]
  },
  {
   "cell_type": "code",
   "execution_count": 9,
   "id": "d494a073",
   "metadata": {},
   "outputs": [],
   "source": [
    "names = root.xpath(\"//a[contains(@class,'newsitem__title')]/text()\")"
   ]
  },
  {
   "cell_type": "markdown",
   "id": "108771a2",
   "metadata": {},
   "source": []
  },
  {
   "cell_type": "code",
   "execution_count": null,
   "id": "1286f28e",
   "metadata": {},
   "outputs": [],
   "source": []
  },
  {
   "cell_type": "code",
   "execution_count": null,
   "id": "fe308ec8",
   "metadata": {},
   "outputs": [],
   "source": [
    "news_in_pic = root.xpath(\"//table[@class='daynews__inner']//div[contains(@class,'daynews__item')]/text()\")\n",
    "news_in_list = root.xpath(\"//li[contains(@class,'list__item')]/text()\")\n",
    "news_with_pic = root.xpath(\"//span[@class='cell']/text()\")"
   ]
  },
  {
   "cell_type": "code",
   "execution_count": null,
   "id": "a937243f",
   "metadata": {},
   "outputs": [],
   "source": []
  }
 ],
 "metadata": {
  "kernelspec": {
   "display_name": "Python 3 (ipykernel)",
   "language": "python",
   "name": "python3"
  },
  "language_info": {
   "codemirror_mode": {
    "name": "ipython",
    "version": 3
   },
   "file_extension": ".py",
   "mimetype": "text/x-python",
   "name": "python",
   "nbconvert_exporter": "python",
   "pygments_lexer": "ipython3",
   "version": "3.9.7"
  }
 },
 "nbformat": 4,
 "nbformat_minor": 5
}
